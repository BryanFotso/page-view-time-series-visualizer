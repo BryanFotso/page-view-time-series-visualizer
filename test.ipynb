{
 "cells": [
  {
   "cell_type": "code",
   "execution_count": 70,
   "metadata": {},
   "outputs": [],
   "source": [
    "df =pd.read_csv(\"fcc-forum-pageviews.csv\", parse_dates=[\"date\"], index_col=\"date\")"
   ]
  },
  {
   "cell_type": "code",
   "execution_count": 71,
   "metadata": {},
   "outputs": [
    {
     "name": "stdout",
     "output_type": "stream",
     "text": [
      "<class 'pandas.core.frame.DataFrame'>\n",
      "DatetimeIndex: 1304 entries, 2016-05-09 to 2019-12-03\n",
      "Data columns (total 1 columns):\n",
      " #   Column  Non-Null Count  Dtype\n",
      "---  ------  --------------  -----\n",
      " 0   value   1304 non-null   int64\n",
      "dtypes: int64(1)\n",
      "memory usage: 20.4 KB\n"
     ]
    }
   ],
   "source": [
    "df.info()"
   ]
  },
  {
   "cell_type": "code",
   "execution_count": 65,
   "metadata": {},
   "outputs": [],
   "source": [
    "#df_bar = df.copy()\n",
    "#df_bar[df_bar.duplicated(keep=False)]\n",
    "\n"
   ]
  },
  {
   "cell_type": "code",
   "execution_count": 75,
   "metadata": {},
   "outputs": [],
   "source": [
    "df_bar = df.copy()\n",
    "df_bar['year'] = df.index.year\n",
    "df_bar['month'] = df.index.month\n",
    "df_bar['month_name'] = df.index.strftime('%B')\n",
    "\n",
    "# Groupement et calcul des moyennes\n",
    "df_bar= df_bar.groupby(['year', 'month','month_name'])['value'].mean().reset_index()\n"
   ]
  },
  {
   "cell_type": "code",
   "execution_count": 78,
   "metadata": {},
   "outputs": [],
   "source": [
    "len(df_bar)\n",
    "df_bar = df_bar.sort_values(['year', 'month'])\n"
   ]
  },
  {
   "cell_type": "code",
   "execution_count": null,
   "metadata": {},
   "outputs": [],
   "source": [
    "df_bar"
   ]
  },
  {
   "cell_type": "code",
   "execution_count": 80,
   "metadata": {},
   "outputs": [
    {
     "data": {
      "text/plain": [
       "['January',\n",
       " 'February',\n",
       " 'March',\n",
       " 'April',\n",
       " 'May',\n",
       " 'June',\n",
       " 'July',\n",
       " 'August',\n",
       " 'September',\n",
       " 'October',\n",
       " 'November',\n",
       " 'December']"
      ]
     },
     "execution_count": 80,
     "metadata": {},
     "output_type": "execute_result"
    }
   ],
   "source": [
    "months = pd.date_range('2020-01', '2020-12', freq='MS').strftime('%B').tolist()\n",
    "months"
   ]
  }
 ],
 "metadata": {
  "language_info": {
   "name": "python"
  }
 },
 "nbformat": 4,
 "nbformat_minor": 2
}
